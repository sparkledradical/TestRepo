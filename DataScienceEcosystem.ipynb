{
 "cells": [
  {
   "cell_type": "markdown",
   "id": "ca0f8b52-ce7b-4be5-b578-506ed668ebe1",
   "metadata": {},
   "source": [
    "# Data Science Tools and Ecosystem"
   ]
  },
  {
   "cell_type": "markdown",
   "id": "4bf96744-10cf-4713-8a9e-fea9b5c346ab",
   "metadata": {
    "jp-MarkdownHeadingCollapsed": true
   },
   "source": [
    "In this notebook, Data Science and Ecosystem are summarized. "
   ]
  },
  {
   "cell_type": "markdown",
   "id": "2ef103e8-2bca-4289-a605-2600ca85db2a",
   "metadata": {},
   "source": [
    "**Objectives:** \n",
    "- List popular languages for Data Science\n",
    "- Commonly Used Libraries\n",
    "- Examples of evaluating arithmetic expressions in Python"
   ]
  },
  {
   "cell_type": "markdown",
   "id": "353971cf-e384-47a1-a099-6e1046704263",
   "metadata": {},
   "source": [
    "Some of the popular languages that Data Scientists use are:\n",
    "1. Python\n",
    "2. R\n",
    "3. SQL\n",
    "4. Java\n",
    "5. C++"
   ]
  },
  {
   "cell_type": "markdown",
   "id": "76de54ca-29df-424e-baba-e42edd3ae3b4",
   "metadata": {},
   "source": [
    "Some of the commonly used libraries used by Data Scientists include:\n",
    "1. ggplot2\n",
    "2. Pandas\n",
    "3. NumPy\n",
    "4. Matplotlib\n",
    "5. TensorFlow"
   ]
  },
  {
   "cell_type": "markdown",
   "id": "ae134580-ef1f-467f-9546-66c1cd8c847f",
   "metadata": {},
   "source": [
    "| Data Science Tools |\n",
    "|------------------|\n",
    "| Anaconda Distribution|\n",
    "| GitHub |\n",
    "| RStudio|"
   ]
  },
  {
   "cell_type": "markdown",
   "id": "978e90c0-7084-4599-96f6-8bd50179b113",
   "metadata": {},
   "source": [
    "### Below are a few examples of evaluating arithmetic expressions in Python"
   ]
  },
  {
   "cell_type": "code",
   "execution_count": 23,
   "id": "869cc70a-6cdc-4f98-94ce-781039719d71",
   "metadata": {},
   "outputs": [
    {
     "data": {
      "text/plain": [
       "17"
      ]
     },
     "execution_count": 23,
     "metadata": {},
     "output_type": "execute_result"
    }
   ],
   "source": [
    "(3*4)+5 # this is a simple arithmetic expression to multiply then add inter"
   ]
  },
  {
   "cell_type": "code",
   "execution_count": 33,
   "id": "ddc4bbce-b26c-4897-a94e-b43622a5d3dd",
   "metadata": {},
   "outputs": [
    {
     "data": {
      "text/plain": [
       "3.3333333333333335"
      ]
     },
     "execution_count": 33,
     "metadata": {},
     "output_type": "execute_result"
    }
   ],
   "source": [
    "200/60 # This will convert 200 minutes to hours by diving 60."
   ]
  },
  {
   "cell_type": "markdown",
   "id": "dccbcc72-eded-4c39-a4f0-e72c3a1dfee7",
   "metadata": {},
   "source": [
    "## Author\n",
    "Alina Kenina"
   ]
  }
 ],
 "metadata": {
  "kernelspec": {
   "display_name": "Python [conda env:RP_Environment]",
   "language": "python",
   "name": "conda-env-RP_Environment-py"
  },
  "language_info": {
   "codemirror_mode": {
    "name": "ipython",
    "version": 3
   },
   "file_extension": ".py",
   "mimetype": "text/x-python",
   "name": "python",
   "nbconvert_exporter": "python",
   "pygments_lexer": "ipython3",
   "version": "3.12.9"
  }
 },
 "nbformat": 4,
 "nbformat_minor": 5
}
